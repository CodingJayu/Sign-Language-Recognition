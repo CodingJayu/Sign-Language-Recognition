{
  "cells": [
    {
      "cell_type": "code",
      "execution_count": 27,
      "metadata": {
        "id": "6ORDvHqi4dLh"
      },
      "outputs": [],
      "source": [
        "# Part 1 - Building the CNN\n",
        "#importing the Keras libraries and packages\n",
        "from keras.models import Sequential\n",
        "from keras.layers import Convolution2D\n",
        "from keras.layers import MaxPooling2D\n",
        "from keras.layers import Flatten\n",
        "from keras.layers import Dense, Dropout\n",
        "from keras import optimizers\n",
        "import matplotlib.pyplot as plt\n",
        "import h5py\n",
        "\n",
        "#Input Image Size\n",
        "sz=300"
      ]
    },
    {
      "cell_type": "code",
      "execution_count": 28,
      "metadata": {
        "id": "LO1t6agDmncq"
      },
      "outputs": [],
      "source": [
        "# Initialing the CNN\n",
        "classifier = Sequential()"
      ]
    },
    {
      "cell_type": "code",
      "execution_count": 29,
      "metadata": {
        "id": "u3Iq14Ycmt58"
      },
      "outputs": [],
      "source": [
        "# Step 1 - Convolutio Layer \n",
        "classifier.add(Convolution2D(32, (3,3) , input_shape = (sz, sz,1), activation = 'relu', padding='same'))"
      ]
    },
    {
      "cell_type": "code",
      "execution_count": 30,
      "metadata": {
        "id": "nNKdOWJOmuAv"
      },
      "outputs": [],
      "source": [
        "#step 2 - Pooling\n",
        "classifier.add(MaxPooling2D(pool_size =(2,2)))"
      ]
    },
    {
      "cell_type": "code",
      "execution_count": 31,
      "metadata": {
        "id": "Ysx_pralm5qG"
      },
      "outputs": [],
      "source": [
        "# Adding second convolution layer\n",
        "classifier.add(Convolution2D(32, (3,3) , activation = 'relu', padding='same'))\n",
        "classifier.add(MaxPooling2D(pool_size =(2,2)))"
      ]
    },
    {
      "cell_type": "code",
      "execution_count": 32,
      "metadata": {
        "id": "7JuZkiKOm56R"
      },
      "outputs": [],
      "source": [
        "#Adding 3rd Concolution Layer\n",
        "classifier.add(Convolution2D(64, (3,3) , activation = 'relu', padding='same'))\n",
        "classifier.add(MaxPooling2D(pool_size =(2,2)))\n"
      ]
    },
    {
      "cell_type": "code",
      "execution_count": 33,
      "metadata": {
        "id": "JyDYLHedJXub"
      },
      "outputs": [],
      "source": [
        "#Step 3 - Flattening\n",
        "classifier.add(Flatten())"
      ]
    },
    {
      "cell_type": "code",
      "execution_count": 34,
      "metadata": {
        "id": "B-7yOOgrJX1K"
      },
      "outputs": [],
      "source": [
        "#Step 4 - Full Connection\n",
        "classifier.add(Dense(256, activation = 'relu'))\n",
        "classifier.add(Dropout(0.4))\n",
        "classifier.add(Dense(35, activation = 'softmax')) # 36 Units are the value of no of Classes"
      ]
    },
    {
      "cell_type": "code",
      "execution_count": 35,
      "metadata": {
        "id": "69rRIVm9Jbr6"
      },
      "outputs": [],
      "source": [
        "#Compiling The CNN\n",
        "classifier.compile(\n",
        "              optimizer = 'adam',\n",
        "              loss = 'categorical_crossentropy',\n",
        "              metrics = ['accuracy'])"
      ]
    },
    {
      "cell_type": "code",
      "execution_count": 36,
      "metadata": {
        "colab": {
          "base_uri": "https://localhost:8080/"
        },
        "id": "CRMql1lLgQrW",
        "outputId": "6b4ddfe6-3d06-4c35-fb7d-f81302eb042f"
      },
      "outputs": [
        {
          "name": "stdout",
          "output_type": "stream",
          "text": [
            "Model: \"sequential_2\"\n",
            "_________________________________________________________________\n",
            " Layer (type)                Output Shape              Param #   \n",
            "=================================================================\n",
            " conv2d_6 (Conv2D)           (None, 300, 300, 32)      320       \n",
            "                                                                 \n",
            " max_pooling2d_6 (MaxPooling  (None, 150, 150, 32)     0         \n",
            " 2D)                                                             \n",
            "                                                                 \n",
            " conv2d_7 (Conv2D)           (None, 150, 150, 32)      9248      \n",
            "                                                                 \n",
            " max_pooling2d_7 (MaxPooling  (None, 75, 75, 32)       0         \n",
            " 2D)                                                             \n",
            "                                                                 \n",
            " conv2d_8 (Conv2D)           (None, 75, 75, 64)        18496     \n",
            "                                                                 \n",
            " max_pooling2d_8 (MaxPooling  (None, 37, 37, 64)       0         \n",
            " 2D)                                                             \n",
            "                                                                 \n",
            " flatten_2 (Flatten)         (None, 87616)             0         \n",
            "                                                                 \n",
            " dense_4 (Dense)             (None, 256)               22429952  \n",
            "                                                                 \n",
            " dropout_2 (Dropout)         (None, 256)               0         \n",
            "                                                                 \n",
            " dense_5 (Dense)             (None, 35)                8995      \n",
            "                                                                 \n",
            "=================================================================\n",
            "Total params: 22,467,011\n",
            "Trainable params: 22,467,011\n",
            "Non-trainable params: 0\n",
            "_________________________________________________________________\n"
          ]
        }
      ],
      "source": [
        "# Classifier Summary\n",
        "classifier.summary()"
      ]
    },
    {
      "cell_type": "code",
      "execution_count": 37,
      "metadata": {
        "id": "zcqMfgb_Jb3m"
      },
      "outputs": [],
      "source": [
        "#Part 2 Fittting the CNN to the image\n",
        "from keras.preprocessing.image import ImageDataGenerator\n",
        "train_datagen = ImageDataGenerator(\n",
        "        rescale=1./255,\n",
        "        shear_range=0.2,\n",
        "        zoom_range=0.2,\n",
        "        horizontal_flip=True)"
      ]
    },
    {
      "cell_type": "code",
      "execution_count": 38,
      "metadata": {
        "colab": {
          "base_uri": "https://localhost:8080/"
        },
        "id": "8NSgS7-xJfzK",
        "outputId": "378b9baf-87ca-408f-bc84-f56bfdfbe721"
      },
      "outputs": [
        {
          "name": "stdout",
          "output_type": "stream",
          "text": [
            "Found 10589 images belonging to 35 classes.\n",
            "Found 2450 images belonging to 35 classes.\n"
          ]
        }
      ],
      "source": [
        "#Dataset Store in Variable\n",
        "test_datagen = ImageDataGenerator(rescale=1./255)\n",
        "\n",
        "training_set = train_datagen.flow_from_directory(\n",
        "        'C:/Users/amits/OneDrive/Desktop/project/Sign-Language-Recognition-Jayu/marathi_module/data/train',\n",
        "        target_size=(sz, sz),\n",
        "        batch_size=32,\n",
        "        color_mode='grayscale',\n",
        "        class_mode='categorical')\n",
        "\n",
        "test_set = test_datagen.flow_from_directory(\n",
        "        'C:/Users/amits/OneDrive/Desktop/project/Sign-Language-Recognition-Jayu/marathi_module/data/test',\n",
        "        target_size=(sz, sz),\n",
        "        batch_size=32,\n",
        "        color_mode='grayscale',\n",
        "        class_mode='categorical')"
      ]
    },
    {
      "cell_type": "code",
      "execution_count": 39,
      "metadata": {
        "colab": {
          "base_uri": "https://localhost:8080/"
        },
        "id": "YBBCWpdlJf2j",
        "outputId": "ff680971-927e-4782-9cdc-1fc644734357"
      },
      "outputs": [
        {
          "name": "stderr",
          "output_type": "stream",
          "text": [
            "C:\\Users\\amits\\AppData\\Local\\Temp\\ipykernel_3864\\2771635669.py:3: UserWarning: `Model.fit_generator` is deprecated and will be removed in a future version. Please use `Model.fit`, which supports generators.\n",
            "  model = classifier.fit_generator(\n"
          ]
        },
        {
          "name": "stdout",
          "output_type": "stream",
          "text": [
            "Epoch 1/25\n",
            "330/330 [==============================] - 476s 1s/step - loss: 1.2331 - accuracy: 0.6635 - val_loss: 1.9757 - val_accuracy: 0.6830\n",
            "Epoch 2/25\n",
            "330/330 [==============================] - 458s 1s/step - loss: 0.2547 - accuracy: 0.9224 - val_loss: 1.9798 - val_accuracy: 0.6727\n",
            "Epoch 3/25\n",
            "330/330 [==============================] - 444s 1s/step - loss: 0.1432 - accuracy: 0.9558 - val_loss: 1.9317 - val_accuracy: 0.6986\n",
            "Epoch 4/25\n",
            "330/330 [==============================] - 433s 1s/step - loss: 0.1012 - accuracy: 0.9684 - val_loss: 2.1554 - val_accuracy: 0.7541\n",
            "Epoch 5/25\n",
            "330/330 [==============================] - 451s 1s/step - loss: 0.0847 - accuracy: 0.9739 - val_loss: 1.8126 - val_accuracy: 0.7627\n",
            "Epoch 6/25\n",
            "330/330 [==============================] - 446s 1s/step - loss: 0.0543 - accuracy: 0.9828 - val_loss: 1.3963 - val_accuracy: 0.7821\n",
            "Epoch 7/25\n",
            "330/330 [==============================] - 445s 1s/step - loss: 0.0521 - accuracy: 0.9829 - val_loss: 1.7718 - val_accuracy: 0.7377\n",
            "Epoch 8/25\n",
            "330/330 [==============================] - 451s 1s/step - loss: 0.0511 - accuracy: 0.9856 - val_loss: 2.5731 - val_accuracy: 0.7574\n",
            "Epoch 9/25\n",
            "330/330 [==============================] - 452s 1s/step - loss: 0.0475 - accuracy: 0.9844 - val_loss: 1.8887 - val_accuracy: 0.7603\n",
            "Epoch 10/25\n",
            "330/330 [==============================] - 467s 1s/step - loss: 0.0360 - accuracy: 0.9879 - val_loss: 2.3783 - val_accuracy: 0.7578\n",
            "Epoch 11/25\n",
            "330/330 [==============================] - 444s 1s/step - loss: 0.0327 - accuracy: 0.9897 - val_loss: 1.6330 - val_accuracy: 0.7516\n",
            "Epoch 12/25\n",
            "330/330 [==============================] - 430s 1s/step - loss: 0.0325 - accuracy: 0.9900 - val_loss: 2.4228 - val_accuracy: 0.7471\n",
            "Epoch 13/25\n",
            "330/330 [==============================] - 458s 1s/step - loss: 0.0281 - accuracy: 0.9914 - val_loss: 1.7662 - val_accuracy: 0.7533\n",
            "Epoch 14/25\n",
            "330/330 [==============================] - 512s 2s/step - loss: 0.0257 - accuracy: 0.9927 - val_loss: 2.5802 - val_accuracy: 0.7706\n",
            "Epoch 15/25\n",
            "330/330 [==============================] - 599s 2s/step - loss: 0.0226 - accuracy: 0.9930 - val_loss: 2.6270 - val_accuracy: 0.7965\n",
            "Epoch 16/25\n",
            "330/330 [==============================] - 593s 2s/step - loss: 0.0239 - accuracy: 0.9930 - val_loss: 1.9501 - val_accuracy: 0.7771\n",
            "Epoch 17/25\n",
            "330/330 [==============================] - 577s 2s/step - loss: 0.0252 - accuracy: 0.9918 - val_loss: 1.8634 - val_accuracy: 0.7648\n",
            "Epoch 18/25\n",
            "330/330 [==============================] - 591s 2s/step - loss: 0.0214 - accuracy: 0.9938 - val_loss: 2.4081 - val_accuracy: 0.7632\n",
            "Epoch 19/25\n",
            "330/330 [==============================] - 597s 2s/step - loss: 0.0167 - accuracy: 0.9949 - val_loss: 2.5741 - val_accuracy: 0.7570\n",
            "Epoch 20/25\n",
            "330/330 [==============================] - 639s 2s/step - loss: 0.0183 - accuracy: 0.9942 - val_loss: 2.3305 - val_accuracy: 0.7500\n",
            "Epoch 21/25\n",
            "330/330 [==============================] - 565s 2s/step - loss: 0.0163 - accuracy: 0.9954 - val_loss: 2.5719 - val_accuracy: 0.7706\n",
            "Epoch 22/25\n",
            "330/330 [==============================] - 580s 2s/step - loss: 0.0181 - accuracy: 0.9952 - val_loss: 2.7537 - val_accuracy: 0.7475\n",
            "Epoch 23/25\n",
            "330/330 [==============================] - 541s 2s/step - loss: 0.0173 - accuracy: 0.9944 - val_loss: 3.0587 - val_accuracy: 0.7784\n",
            "Epoch 24/25\n",
            "330/330 [==============================] - 467s 1s/step - loss: 0.0217 - accuracy: 0.9937 - val_loss: 2.6286 - val_accuracy: 0.7430\n",
            "Epoch 25/25\n",
            "330/330 [==============================] - 446s 1s/step - loss: 0.0144 - accuracy: 0.9956 - val_loss: 2.8783 - val_accuracy: 0.7570\n"
          ]
        }
      ],
      "source": [
        "#Model Initialize\n",
        "epochs=25\n",
        "model = classifier.fit_generator(\n",
        "        training_set,\n",
        "        steps_per_epoch=330,\t#No of Image in Traing Set 7000/batch size(32)=218\n",
        "        epochs=epochs, #Previous value is 25\n",
        "        validation_data = test_set,\n",
        "        validation_steps =76 \t#No of Image in Test Set 1750/batch size(32)=54\n",
        "      )"
      ]
    },
    {
      "cell_type": "code",
      "execution_count": 40,
      "metadata": {
        "colab": {
          "base_uri": "https://localhost:8080/"
        },
        "id": "hGGDpSCnJupU",
        "outputId": "12e9508c-e100-432e-fe3d-c15f659f5a90"
      },
      "outputs": [
        {
          "name": "stdout",
          "output_type": "stream",
          "text": [
            "Model Saved\n",
            "dict_keys(['loss', 'accuracy', 'val_loss', 'val_accuracy'])\n"
          ]
        }
      ],
      "source": [
        "#Saving the model\n",
        "classifier.save('Trained_model.h5')\n",
        "\n",
        "# model_json = classifier.to_json()\n",
        "# with open(\"/content/drive/MyDrive/Data/model-bw1.json\", \"w\") as json_file:\n",
        "#     json_file.write(model_json)\n",
        "print('Model Saved')\n",
        "\n",
        "print(model.history.keys())"
      ]
    },
    {
      "cell_type": "code",
      "execution_count": 41,
      "metadata": {
        "colab": {
          "base_uri": "https://localhost:8080/"
        },
        "id": "6s4PjEz9Ju5D",
        "outputId": "474f0a45-a925-4aaf-98cc-8315720f8727"
      },
      "outputs": [
        {
          "data": {
            "text/plain": [
              "[0.663540780544281,\n",
              " 0.9224211573600769,\n",
              " 0.9557639360427856,\n",
              " 0.9683622121810913,\n",
              " 0.9738562107086182,\n",
              " 0.9827602505683899,\n",
              " 0.982854962348938,\n",
              " 0.9856019616127014,\n",
              " 0.9843705892562866,\n",
              " 0.9878753423690796,\n",
              " 0.9896751046180725,\n",
              " 0.9899592399597168,\n",
              " 0.9913801550865173,\n",
              " 0.9927062392234802,\n",
              " 0.9929904341697693,\n",
              " 0.9929904341697693,\n",
              " 0.9917590022087097,\n",
              " 0.9938429594039917,\n",
              " 0.9948849081993103,\n",
              " 0.9942218661308289,\n",
              " 0.9953585267066956,\n",
              " 0.9951691031455994,\n",
              " 0.994411289691925,\n",
              " 0.9936534762382507,\n",
              " 0.9956427216529846]"
            ]
          },
          "execution_count": 41,
          "metadata": {},
          "output_type": "execute_result"
        }
      ],
      "source": [
        "#Accuracy\n",
        "model.history['accuracy']"
      ]
    }
  ],
  "metadata": {
    "accelerator": "GPU",
    "colab": {
      "provenance": []
    },
    "gpuClass": "standard",
    "kernelspec": {
      "display_name": "Python 3.10.8 64-bit",
      "language": "python",
      "name": "python3"
    },
    "language_info": {
      "codemirror_mode": {
        "name": "ipython",
        "version": 3
      },
      "file_extension": ".py",
      "mimetype": "text/x-python",
      "name": "python",
      "nbconvert_exporter": "python",
      "pygments_lexer": "ipython3",
      "version": "3.10.11"
    },
    "vscode": {
      "interpreter": {
        "hash": "e7370f93d1d0cde622a1f8e1c04877d8463912d04d973331ad4851f04de6915a"
      }
    }
  },
  "nbformat": 4,
  "nbformat_minor": 0
}