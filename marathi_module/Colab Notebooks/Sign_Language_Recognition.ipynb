{
  "cells": [
    {
      "cell_type": "code",
      "execution_count": null,
      "metadata": {
        "colab": {
          "base_uri": "https://localhost:8080/"
        },
        "id": "4onpoArd2aFW",
        "outputId": "a6e5449f-7dc7-46b0-8e1a-8743cdda3d6a"
      },
      "outputs": [
        {
          "name": "stdout",
          "output_type": "stream",
          "text": [
            "Looking in indexes: https://pypi.org/simple, https://us-python.pkg.dev/colab-wheels/public/simple/\n",
            "Requirement already satisfied: tensorflow in /usr/local/lib/python3.9/dist-packages (2.11.0)\n",
            "Requirement already satisfied: tensorflow-io-gcs-filesystem>=0.23.1 in /usr/local/lib/python3.9/dist-packages (from tensorflow) (0.31.0)\n",
            "Requirement already satisfied: six>=1.12.0 in /usr/local/lib/python3.9/dist-packages (from tensorflow) (1.15.0)\n",
            "Requirement already satisfied: gast<=0.4.0,>=0.2.1 in /usr/local/lib/python3.9/dist-packages (from tensorflow) (0.4.0)\n",
            "Requirement already satisfied: grpcio<2.0,>=1.24.3 in /usr/local/lib/python3.9/dist-packages (from tensorflow) (1.51.3)\n",
            "Requirement already satisfied: libclang>=13.0.0 in /usr/local/lib/python3.9/dist-packages (from tensorflow) (15.0.6.1)\n",
            "Requirement already satisfied: setuptools in /usr/local/lib/python3.9/dist-packages (from tensorflow) (63.4.3)\n",
            "Requirement already satisfied: absl-py>=1.0.0 in /usr/local/lib/python3.9/dist-packages (from tensorflow) (1.4.0)\n",
            "Requirement already satisfied: typing-extensions>=3.6.6 in /usr/local/lib/python3.9/dist-packages (from tensorflow) (4.5.0)\n",
            "Requirement already satisfied: opt-einsum>=2.3.2 in /usr/local/lib/python3.9/dist-packages (from tensorflow) (3.3.0)\n",
            "Requirement already satisfied: tensorflow-estimator<2.12,>=2.11.0 in /usr/local/lib/python3.9/dist-packages (from tensorflow) (2.11.0)\n",
            "Requirement already satisfied: keras<2.12,>=2.11.0 in /usr/local/lib/python3.9/dist-packages (from tensorflow) (2.11.0)\n",
            "Requirement already satisfied: astunparse>=1.6.0 in /usr/local/lib/python3.9/dist-packages (from tensorflow) (1.6.3)\n",
            "Requirement already satisfied: packaging in /usr/local/lib/python3.9/dist-packages (from tensorflow) (23.0)\n",
            "Requirement already satisfied: wrapt>=1.11.0 in /usr/local/lib/python3.9/dist-packages (from tensorflow) (1.15.0)\n",
            "Requirement already satisfied: h5py>=2.9.0 in /usr/local/lib/python3.9/dist-packages (from tensorflow) (3.8.0)\n",
            "Requirement already satisfied: termcolor>=1.1.0 in /usr/local/lib/python3.9/dist-packages (from tensorflow) (2.2.0)\n",
            "Requirement already satisfied: protobuf<3.20,>=3.9.2 in /usr/local/lib/python3.9/dist-packages (from tensorflow) (3.19.6)\n",
            "Requirement already satisfied: flatbuffers>=2.0 in /usr/local/lib/python3.9/dist-packages (from tensorflow) (23.3.3)\n",
            "Requirement already satisfied: tensorboard<2.12,>=2.11 in /usr/local/lib/python3.9/dist-packages (from tensorflow) (2.11.2)\n",
            "Requirement already satisfied: numpy>=1.20 in /usr/local/lib/python3.9/dist-packages (from tensorflow) (1.22.4)\n",
            "Requirement already satisfied: google-pasta>=0.1.1 in /usr/local/lib/python3.9/dist-packages (from tensorflow) (0.2.0)\n",
            "Requirement already satisfied: wheel<1.0,>=0.23.0 in /usr/local/lib/python3.9/dist-packages (from astunparse>=1.6.0->tensorflow) (0.40.0)\n",
            "Requirement already satisfied: tensorboard-data-server<0.7.0,>=0.6.0 in /usr/local/lib/python3.9/dist-packages (from tensorboard<2.12,>=2.11->tensorflow) (0.6.1)\n",
            "Requirement already satisfied: requests<3,>=2.21.0 in /usr/local/lib/python3.9/dist-packages (from tensorboard<2.12,>=2.11->tensorflow) (2.27.1)\n",
            "Requirement already satisfied: tensorboard-plugin-wit>=1.6.0 in /usr/local/lib/python3.9/dist-packages (from tensorboard<2.12,>=2.11->tensorflow) (1.8.1)\n",
            "Requirement already satisfied: google-auth-oauthlib<0.5,>=0.4.1 in /usr/local/lib/python3.9/dist-packages (from tensorboard<2.12,>=2.11->tensorflow) (0.4.6)\n",
            "Requirement already satisfied: markdown>=2.6.8 in /usr/local/lib/python3.9/dist-packages (from tensorboard<2.12,>=2.11->tensorflow) (3.4.1)\n",
            "Requirement already satisfied: werkzeug>=1.0.1 in /usr/local/lib/python3.9/dist-packages (from tensorboard<2.12,>=2.11->tensorflow) (2.2.3)\n",
            "Requirement already satisfied: google-auth<3,>=1.6.3 in /usr/local/lib/python3.9/dist-packages (from tensorboard<2.12,>=2.11->tensorflow) (2.16.2)\n",
            "Requirement already satisfied: cachetools<6.0,>=2.0.0 in /usr/local/lib/python3.9/dist-packages (from google-auth<3,>=1.6.3->tensorboard<2.12,>=2.11->tensorflow) (5.3.0)\n",
            "Requirement already satisfied: pyasn1-modules>=0.2.1 in /usr/local/lib/python3.9/dist-packages (from google-auth<3,>=1.6.3->tensorboard<2.12,>=2.11->tensorflow) (0.2.8)\n",
            "Requirement already satisfied: rsa<5,>=3.1.4 in /usr/local/lib/python3.9/dist-packages (from google-auth<3,>=1.6.3->tensorboard<2.12,>=2.11->tensorflow) (4.9)\n",
            "Requirement already satisfied: requests-oauthlib>=0.7.0 in /usr/local/lib/python3.9/dist-packages (from google-auth-oauthlib<0.5,>=0.4.1->tensorboard<2.12,>=2.11->tensorflow) (1.3.1)\n",
            "Requirement already satisfied: importlib-metadata>=4.4 in /usr/local/lib/python3.9/dist-packages (from markdown>=2.6.8->tensorboard<2.12,>=2.11->tensorflow) (6.0.0)\n",
            "Requirement already satisfied: idna<4,>=2.5 in /usr/local/lib/python3.9/dist-packages (from requests<3,>=2.21.0->tensorboard<2.12,>=2.11->tensorflow) (3.4)\n",
            "Requirement already satisfied: certifi>=2017.4.17 in /usr/local/lib/python3.9/dist-packages (from requests<3,>=2.21.0->tensorboard<2.12,>=2.11->tensorflow) (2022.12.7)\n",
            "Requirement already satisfied: charset-normalizer~=2.0.0 in /usr/local/lib/python3.9/dist-packages (from requests<3,>=2.21.0->tensorboard<2.12,>=2.11->tensorflow) (2.0.12)\n",
            "Requirement already satisfied: urllib3<1.27,>=1.21.1 in /usr/local/lib/python3.9/dist-packages (from requests<3,>=2.21.0->tensorboard<2.12,>=2.11->tensorflow) (1.26.15)\n",
            "Requirement already satisfied: MarkupSafe>=2.1.1 in /usr/local/lib/python3.9/dist-packages (from werkzeug>=1.0.1->tensorboard<2.12,>=2.11->tensorflow) (2.1.2)\n",
            "Requirement already satisfied: zipp>=0.5 in /usr/local/lib/python3.9/dist-packages (from importlib-metadata>=4.4->markdown>=2.6.8->tensorboard<2.12,>=2.11->tensorflow) (3.15.0)\n",
            "Requirement already satisfied: pyasn1<0.5.0,>=0.4.6 in /usr/local/lib/python3.9/dist-packages (from pyasn1-modules>=0.2.1->google-auth<3,>=1.6.3->tensorboard<2.12,>=2.11->tensorflow) (0.4.8)\n",
            "Requirement already satisfied: oauthlib>=3.0.0 in /usr/local/lib/python3.9/dist-packages (from requests-oauthlib>=0.7.0->google-auth-oauthlib<0.5,>=0.4.1->tensorboard<2.12,>=2.11->tensorflow) (3.2.2)\n",
            "Looking in indexes: https://pypi.org/simple, https://us-python.pkg.dev/colab-wheels/public/simple/\n",
            "Requirement already satisfied: opencv-python in /usr/local/lib/python3.9/dist-packages (4.6.0.66)\n",
            "Requirement already satisfied: numpy>=1.19.3 in /usr/local/lib/python3.9/dist-packages (from opencv-python) (1.22.4)\n"
          ]
        }
      ],
      "source": [
        "!pip install tensorflow\n",
        "!pip install opencv-python"
      ]
    },
    {
      "cell_type": "code",
      "execution_count": null,
      "metadata": {
        "colab": {
          "base_uri": "https://localhost:8080/"
        },
        "id": "Dh5z_TEK3xbX",
        "outputId": "acc216f1-519a-44ca-d28d-0a5db2f9e4ce"
      },
      "outputs": [
        {
          "name": "stdout",
          "output_type": "stream",
          "text": [
            "Sat Mar 18 06:39:50 2023       \n",
            "+-----------------------------------------------------------------------------+\n",
            "| NVIDIA-SMI 525.85.12    Driver Version: 525.85.12    CUDA Version: 12.0     |\n",
            "|-------------------------------+----------------------+----------------------+\n",
            "| GPU  Name        Persistence-M| Bus-Id        Disp.A | Volatile Uncorr. ECC |\n",
            "| Fan  Temp  Perf  Pwr:Usage/Cap|         Memory-Usage | GPU-Util  Compute M. |\n",
            "|                               |                      |               MIG M. |\n",
            "|===============================+======================+======================|\n",
            "|   0  Tesla T4            Off  | 00000000:00:04.0 Off |                    0 |\n",
            "| N/A   62C    P0    30W /  70W |      0MiB / 15360MiB |      0%      Default |\n",
            "|                               |                      |                  N/A |\n",
            "+-------------------------------+----------------------+----------------------+\n",
            "                                                                               \n",
            "+-----------------------------------------------------------------------------+\n",
            "| Processes:                                                                  |\n",
            "|  GPU   GI   CI        PID   Type   Process name                  GPU Memory |\n",
            "|        ID   ID                                                   Usage      |\n",
            "|=============================================================================|\n",
            "|  No running processes found                                                 |\n",
            "+-----------------------------------------------------------------------------+\n"
          ]
        }
      ],
      "source": [
        "!nvidia-smi"
      ]
    },
    {
      "cell_type": "code",
      "execution_count": null,
      "metadata": {
        "colab": {
          "base_uri": "https://localhost:8080/"
        },
        "id": "jo92x2tW8VOW",
        "outputId": "9f9f813c-98cb-4809-bad3-eeff35209760"
      },
      "outputs": [
        {
          "name": "stdout",
          "output_type": "stream",
          "text": [
            "Drive already mounted at /content/drive; to attempt to forcibly remount, call drive.mount(\"/content/drive\", force_remount=True).\n"
          ]
        }
      ],
      "source": [
        "from google.colab import drive\n",
        "drive.mount('/content/drive')"
      ]
    },
    {
      "cell_type": "code",
      "execution_count": null,
      "metadata": {
        "id": "6ORDvHqi4dLh"
      },
      "outputs": [],
      "source": [
        "# Part 1 - Building the CNN\n",
        "#importing the Keras libraries and packages\n",
        "from keras.models import Sequential\n",
        "from keras.layers import Convolution2D\n",
        "from keras.layers import MaxPooling2D\n",
        "from keras.layers import Flatten\n",
        "from keras.layers import Dense, Dropout\n",
        "from keras import optimizers\n",
        "import matplotlib.pyplot as plt\n",
        "import h5py\n",
        "\n",
        "#Input Image Size\n",
        "sz=300"
      ]
    },
    {
      "cell_type": "code",
      "execution_count": null,
      "metadata": {
        "id": "LO1t6agDmncq"
      },
      "outputs": [],
      "source": [
        "# Initialing the CNN\n",
        "classifier = Sequential()"
      ]
    },
    {
      "cell_type": "code",
      "execution_count": null,
      "metadata": {
        "id": "u3Iq14Ycmt58"
      },
      "outputs": [],
      "source": [
        "# Step 1 - Convolutio Layer \n",
        "classifier.add(Convolution2D(32, (3,3) , input_shape = (sz, sz,3), activation = 'relu', padding='same'))"
      ]
    },
    {
      "cell_type": "code",
      "execution_count": null,
      "metadata": {
        "id": "nNKdOWJOmuAv"
      },
      "outputs": [],
      "source": [
        "#step 2 - Pooling\n",
        "classifier.add(MaxPooling2D(pool_size =(2,2)))"
      ]
    },
    {
      "cell_type": "code",
      "execution_count": null,
      "metadata": {
        "id": "Ysx_pralm5qG"
      },
      "outputs": [],
      "source": [
        "# Adding second convolution layer\n",
        "classifier.add(Convolution2D(32, (3,3) , activation = 'relu', padding='same'))\n",
        "classifier.add(MaxPooling2D(pool_size =(2,2)))"
      ]
    },
    {
      "cell_type": "code",
      "execution_count": null,
      "metadata": {
        "id": "7JuZkiKOm56R"
      },
      "outputs": [],
      "source": [
        "#Adding 3rd Concolution Layer\n",
        "classifier.add(Convolution2D(64, (3,3) , activation = 'relu', padding='same'))\n",
        "classifier.add(MaxPooling2D(pool_size =(2,2)))\n"
      ]
    },
    {
      "cell_type": "code",
      "execution_count": null,
      "metadata": {
        "id": "JyDYLHedJXub"
      },
      "outputs": [],
      "source": [
        "#Step 3 - Flattening\n",
        "classifier.add(Flatten())"
      ]
    },
    {
      "cell_type": "code",
      "execution_count": null,
      "metadata": {
        "id": "B-7yOOgrJX1K"
      },
      "outputs": [],
      "source": [
        "#Step 4 - Full Connection\n",
        "classifier.add(Dense(256, activation = 'relu'))\n",
        "classifier.add(Dropout(0.4))\n",
        "classifier.add(Dense(36, activation = 'softmax')) # 36 Units are the value of no of Classes"
      ]
    },
    {
      "cell_type": "code",
      "execution_count": null,
      "metadata": {
        "id": "69rRIVm9Jbr6"
      },
      "outputs": [],
      "source": [
        "#Compiling The CNN\n",
        "classifier.compile(\n",
        "              optimizer = 'adam',\n",
        "              loss = 'categorical_crossentropy',\n",
        "              metrics = ['accuracy'])"
      ]
    },
    {
      "cell_type": "code",
      "execution_count": null,
      "metadata": {
        "colab": {
          "base_uri": "https://localhost:8080/"
        },
        "id": "CRMql1lLgQrW",
        "outputId": "6b4ddfe6-3d06-4c35-fb7d-f81302eb042f"
      },
      "outputs": [
        {
          "name": "stdout",
          "output_type": "stream",
          "text": [
            "Model: \"sequential\"\n",
            "_________________________________________________________________\n",
            " Layer (type)                Output Shape              Param #   \n",
            "=================================================================\n",
            " conv2d (Conv2D)             (None, 298, 298, 32)      896       \n",
            "                                                                 \n",
            " max_pooling2d (MaxPooling2D  (None, 149, 149, 32)     0         \n",
            " )                                                               \n",
            "                                                                 \n",
            " conv2d_1 (Conv2D)           (None, 147, 147, 32)      9248      \n",
            "                                                                 \n",
            " max_pooling2d_1 (MaxPooling  (None, 73, 73, 32)       0         \n",
            " 2D)                                                             \n",
            "                                                                 \n",
            " conv2d_2 (Conv2D)           (None, 71, 71, 64)        18496     \n",
            "                                                                 \n",
            " max_pooling2d_2 (MaxPooling  (None, 35, 35, 64)       0         \n",
            " 2D)                                                             \n",
            "                                                                 \n",
            " flatten (Flatten)           (None, 78400)             0         \n",
            "                                                                 \n",
            " dense (Dense)               (None, 256)               20070656  \n",
            "                                                                 \n",
            " dropout (Dropout)           (None, 256)               0         \n",
            "                                                                 \n",
            " dense_1 (Dense)             (None, 36)                9252      \n",
            "                                                                 \n",
            "=================================================================\n",
            "Total params: 20,108,548\n",
            "Trainable params: 20,108,548\n",
            "Non-trainable params: 0\n",
            "_________________________________________________________________\n"
          ]
        }
      ],
      "source": [
        "# Classifier Summary\n",
        "classifier.summary()"
      ]
    },
    {
      "cell_type": "code",
      "execution_count": null,
      "metadata": {
        "id": "zcqMfgb_Jb3m"
      },
      "outputs": [],
      "source": [
        "#Part 2 Fittting the CNN to the image\n",
        "from keras.preprocessing.image import ImageDataGenerator\n",
        "train_datagen = ImageDataGenerator(\n",
        "        rescale=1./255,\n",
        "        shear_range=0.2,\n",
        "        zoom_range=0.2,\n",
        "        horizontal_flip=True)"
      ]
    },
    {
      "cell_type": "code",
      "execution_count": null,
      "metadata": {
        "colab": {
          "base_uri": "https://localhost:8080/"
        },
        "id": "8NSgS7-xJfzK",
        "outputId": "378b9baf-87ca-408f-bc84-f56bfdfbe721"
      },
      "outputs": [
        {
          "name": "stdout",
          "output_type": "stream",
          "text": [
            "Found 7605 images belonging to 36 classes.\n",
            "Found 3330 images belonging to 36 classes.\n"
          ]
        }
      ],
      "source": [
        "#Dataset Store in Variable\n",
        "test_datagen = ImageDataGenerator(rescale=1./255)\n",
        "\n",
        "training_set = train_datagen.flow_from_directory(\n",
        "        '/content/drive/MyDrive/Data/train',\n",
        "        target_size=(sz, sz),\n",
        "        batch_size=32,\n",
        "        color_mode='rgb',\n",
        "        class_mode='categorical')\n",
        "\n",
        "test_set = test_datagen.flow_from_directory(\n",
        "        '/content/drive/MyDrive/Data/test',\n",
        "        target_size=(sz, sz),\n",
        "        batch_size=32,\n",
        "        color_mode='rgb',\n",
        "        class_mode='categorical')"
      ]
    },
    {
      "cell_type": "code",
      "execution_count": null,
      "metadata": {
        "colab": {
          "base_uri": "https://localhost:8080/"
        },
        "id": "YBBCWpdlJf2j",
        "outputId": "ff680971-927e-4782-9cdc-1fc644734357"
      },
      "outputs": [
        {
          "name": "stderr",
          "output_type": "stream",
          "text": [
            "<ipython-input-16-0994f195a884>:3: UserWarning: `Model.fit_generator` is deprecated and will be removed in a future version. Please use `Model.fit`, which supports generators.\n",
            "  model = classifier.fit_generator(\n"
          ]
        },
        {
          "name": "stdout",
          "output_type": "stream",
          "text": [
            "Epoch 1/25\n",
            "237/237 [==============================] - 2239s 9s/step - loss: 1.7667 - accuracy: 0.4998 - val_loss: 1.4951 - val_accuracy: 0.6029\n",
            "Epoch 2/25\n",
            "237/237 [==============================] - 186s 786ms/step - loss: 0.4942 - accuracy: 0.8496 - val_loss: 1.5262 - val_accuracy: 0.6192\n",
            "Epoch 3/25\n",
            "237/237 [==============================] - 187s 789ms/step - loss: 0.3261 - accuracy: 0.9019 - val_loss: 1.3940 - val_accuracy: 0.6657\n",
            "Epoch 4/25\n",
            "237/237 [==============================] - 176s 744ms/step - loss: 0.2241 - accuracy: 0.9262 - val_loss: 1.3289 - val_accuracy: 0.7142\n",
            "Epoch 5/25\n",
            "237/237 [==============================] - 179s 754ms/step - loss: 0.1841 - accuracy: 0.9387 - val_loss: 1.2649 - val_accuracy: 0.7433\n",
            "Epoch 6/25\n",
            "237/237 [==============================] - 182s 765ms/step - loss: 0.1535 - accuracy: 0.9478 - val_loss: 1.4253 - val_accuracy: 0.7384\n",
            "Epoch 7/25\n",
            "237/237 [==============================] - 179s 755ms/step - loss: 0.1421 - accuracy: 0.9550 - val_loss: 1.5973 - val_accuracy: 0.7396\n",
            "Epoch 8/25\n",
            "237/237 [==============================] - 180s 759ms/step - loss: 0.1166 - accuracy: 0.9643 - val_loss: 1.9201 - val_accuracy: 0.6967\n",
            "Epoch 9/25\n",
            "237/237 [==============================] - 180s 761ms/step - loss: 0.1159 - accuracy: 0.9608 - val_loss: 1.7316 - val_accuracy: 0.6887\n",
            "Epoch 10/25\n",
            "237/237 [==============================] - 179s 754ms/step - loss: 0.0923 - accuracy: 0.9694 - val_loss: 1.6330 - val_accuracy: 0.7457\n",
            "Epoch 11/25\n",
            "237/237 [==============================] - 184s 779ms/step - loss: 0.0918 - accuracy: 0.9687 - val_loss: 1.6206 - val_accuracy: 0.7518\n",
            "Epoch 12/25\n",
            "237/237 [==============================] - 184s 776ms/step - loss: 0.0882 - accuracy: 0.9720 - val_loss: 1.7182 - val_accuracy: 0.7460\n",
            "Epoch 13/25\n",
            "237/237 [==============================] - 185s 777ms/step - loss: 0.0832 - accuracy: 0.9732 - val_loss: 1.5789 - val_accuracy: 0.7203\n",
            "Epoch 14/25\n",
            "237/237 [==============================] - 178s 750ms/step - loss: 0.0807 - accuracy: 0.9749 - val_loss: 1.7907 - val_accuracy: 0.7142\n",
            "Epoch 15/25\n",
            "237/237 [==============================] - 187s 790ms/step - loss: 0.0707 - accuracy: 0.9786 - val_loss: 1.6164 - val_accuracy: 0.7062\n",
            "Epoch 16/25\n",
            "237/237 [==============================] - 186s 787ms/step - loss: 0.0593 - accuracy: 0.9807 - val_loss: 1.6234 - val_accuracy: 0.7169\n",
            "Epoch 17/25\n",
            "237/237 [==============================] - 183s 771ms/step - loss: 0.0584 - accuracy: 0.9816 - val_loss: 2.2396 - val_accuracy: 0.7451\n",
            "Epoch 18/25\n",
            "237/237 [==============================] - 181s 762ms/step - loss: 0.0609 - accuracy: 0.9791 - val_loss: 2.1065 - val_accuracy: 0.7246\n",
            "Epoch 19/25\n",
            "237/237 [==============================] - 187s 791ms/step - loss: 0.0556 - accuracy: 0.9818 - val_loss: 2.5329 - val_accuracy: 0.7301\n",
            "Epoch 20/25\n",
            "237/237 [==============================] - 180s 761ms/step - loss: 0.0603 - accuracy: 0.9814 - val_loss: 2.1852 - val_accuracy: 0.7120\n",
            "Epoch 21/25\n",
            "237/237 [==============================] - 179s 757ms/step - loss: 0.0507 - accuracy: 0.9832 - val_loss: 2.0874 - val_accuracy: 0.7592\n",
            "Epoch 22/25\n",
            "237/237 [==============================] - 178s 752ms/step - loss: 0.0523 - accuracy: 0.9840 - val_loss: 1.6913 - val_accuracy: 0.7469\n",
            "Epoch 23/25\n",
            "237/237 [==============================] - 186s 783ms/step - loss: 0.0540 - accuracy: 0.9819 - val_loss: 1.9912 - val_accuracy: 0.7178\n",
            "Epoch 24/25\n",
            "237/237 [==============================] - 187s 790ms/step - loss: 0.0542 - accuracy: 0.9814 - val_loss: 2.0659 - val_accuracy: 0.7420\n",
            "Epoch 25/25\n",
            "237/237 [==============================] - 187s 791ms/step - loss: 0.0419 - accuracy: 0.9871 - val_loss: 1.8584 - val_accuracy: 0.7390\n"
          ]
        }
      ],
      "source": [
        "#Model Initialize\n",
        "epochs=25\n",
        "model = classifier.fit_generator(\n",
        "        training_set,\n",
        "        steps_per_epoch=218,\t#No of Image in Traing Set 7000/batch size(32)=218\n",
        "        epochs=epochs, #Previous value is 25\n",
        "        validation_data = test_set,\n",
        "        validation_steps =54 \t#No of Image in Test Set 1750/batch size(32)=54\n",
        "      )"
      ]
    },
    {
      "cell_type": "code",
      "execution_count": null,
      "metadata": {
        "colab": {
          "base_uri": "https://localhost:8080/"
        },
        "id": "hGGDpSCnJupU",
        "outputId": "12e9508c-e100-432e-fe3d-c15f659f5a90"
      },
      "outputs": [
        {
          "name": "stdout",
          "output_type": "stream",
          "text": [
            "Model Saved\n",
            "dict_keys(['loss', 'accuracy', 'val_loss', 'val_accuracy'])\n"
          ]
        }
      ],
      "source": [
        "#Saving the model\n",
        "classifier.save('/content/drive/MyDrive/Models/Trained_model.h5')\n",
        "\n",
        "# model_json = classifier.to_json()\n",
        "# with open(\"/content/drive/MyDrive/Data/model-bw1.json\", \"w\") as json_file:\n",
        "#     json_file.write(model_json)\n",
        "print('Model Saved')\n",
        "\n",
        "print(model.history.keys())"
      ]
    },
    {
      "cell_type": "code",
      "execution_count": null,
      "metadata": {
        "colab": {
          "base_uri": "https://localhost:8080/"
        },
        "id": "6s4PjEz9Ju5D",
        "outputId": "474f0a45-a925-4aaf-98cc-8315720f8727"
      },
      "outputs": [
        {
          "data": {
            "text/plain": [
              "[0.4998019337654114,\n",
              " 0.8495972752571106,\n",
              " 0.9018883109092712,\n",
              " 0.926185131072998,\n",
              " 0.9387297034263611,\n",
              " 0.9478409886360168,\n",
              " 0.9549716114997864,\n",
              " 0.9643470048904419,\n",
              " 0.9607817530632019,\n",
              " 0.9693648219108582,\n",
              " 0.9687045812606812,\n",
              " 0.9720057845115662,\n",
              " 0.9731942415237427,\n",
              " 0.9749108552932739,\n",
              " 0.9786081910133362,\n",
              " 0.9807209968566895,\n",
              " 0.9816453456878662,\n",
              " 0.9791364073753357,\n",
              " 0.9817773699760437,\n",
              " 0.9813812375068665,\n",
              " 0.9832298755645752,\n",
              " 0.9840222001075745,\n",
              " 0.9819093942642212,\n",
              " 0.9813812375068665,\n",
              " 0.9870592951774597]"
            ]
          },
          "execution_count": 18,
          "metadata": {},
          "output_type": "execute_result"
        }
      ],
      "source": [
        "#Accuracy\n",
        "model.history['accuracy']"
      ]
    }
  ],
  "metadata": {
    "accelerator": "GPU",
    "colab": {
      "provenance": []
    },
    "gpuClass": "standard",
    "kernelspec": {
      "display_name": "Python 3.10.8 64-bit",
      "language": "python",
      "name": "python3"
    },
    "language_info": {
      "name": "python",
      "version": "3.10.8"
    },
    "vscode": {
      "interpreter": {
        "hash": "e7370f93d1d0cde622a1f8e1c04877d8463912d04d973331ad4851f04de6915a"
      }
    }
  },
  "nbformat": 4,
  "nbformat_minor": 0
}
