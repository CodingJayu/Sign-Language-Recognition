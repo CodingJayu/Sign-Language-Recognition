{
  "cells": [
    {
      "cell_type": "code",
      "execution_count": null,
      "metadata": {
        "colab": {
          "base_uri": "https://localhost:8080/"
        },
        "id": "4onpoArd2aFW",
        "outputId": "a9f0b438-d226-4797-f706-79eba398bc00"
      },
      "outputs": [],
      "source": [
        "!pip install tensorflow\n",
        "!pip install opencv-python"
      ]
    },
    {
      "cell_type": "code",
      "execution_count": null,
      "metadata": {
        "colab": {
          "base_uri": "https://localhost:8080/"
        },
        "id": "Dh5z_TEK3xbX",
        "outputId": "64785549-87aa-46cd-f674-2ddbb3851e75"
      },
      "outputs": [],
      "source": [
        "!nvidia-smi"
      ]
    },
    {
      "cell_type": "code",
      "execution_count": null,
      "metadata": {
        "colab": {
          "base_uri": "https://localhost:8080/"
        },
        "id": "jo92x2tW8VOW",
        "outputId": "ed8d5675-cad4-4afe-9c3c-019bd782ad51"
      },
      "outputs": [],
      "source": [
        "from google.colab import drive\n",
        "drive.mount('/content/drive')"
      ]
    },
    {
      "cell_type": "code",
      "execution_count": null,
      "metadata": {
        "id": "6ORDvHqi4dLh"
      },
      "outputs": [],
      "source": [
        "# Part 1 - Building the CNN\n",
        "#importing the Keras libraries and packages\n",
        "from keras.models import Sequential\n",
        "from keras.layers import Convolution2D\n",
        "from keras.layers import MaxPooling2D\n",
        "from keras.layers import Flatten\n",
        "from keras.layers import Dense, Dropout\n",
        "from keras import optimizers\n",
        "import matplotlib.pyplot as plt\n",
        "import h5py\n",
        "\n",
        "#Input Image Size\n",
        "sz=300"
      ]
    },
    {
      "cell_type": "code",
      "execution_count": null,
      "metadata": {
        "id": "LO1t6agDmncq"
      },
      "outputs": [],
      "source": [
        "# Initialing the CNN\n",
        "classifier = Sequential()"
      ]
    },
    {
      "cell_type": "code",
      "execution_count": null,
      "metadata": {
        "id": "u3Iq14Ycmt58"
      },
      "outputs": [],
      "source": [
        "# Step 1 - Convolutio Layer \n",
        "classifier.add(Convolution2D(32, (3,3) , input_shape = (sz, sz,3), activation = 'relu', padding='same'))"
      ]
    },
    {
      "cell_type": "code",
      "execution_count": null,
      "metadata": {
        "id": "nNKdOWJOmuAv"
      },
      "outputs": [],
      "source": [
        "#step 2 - Pooling\n",
        "classifier.add(MaxPooling2D(pool_size =(2,2)))"
      ]
    },
    {
      "cell_type": "code",
      "execution_count": null,
      "metadata": {
        "id": "Ysx_pralm5qG"
      },
      "outputs": [],
      "source": [
        "# Adding second convolution layer\n",
        "classifier.add(Convolution2D(32, (3,3) , activation = 'relu', padding='same'))\n",
        "classifier.add(MaxPooling2D(pool_size =(2,2)))"
      ]
    },
    {
      "cell_type": "code",
      "execution_count": null,
      "metadata": {
        "id": "7JuZkiKOm56R"
      },
      "outputs": [],
      "source": [
        "#Adding 3rd Concolution Layer\n",
        "classifier.add(Convolution2D(64, (3,3) , activation = 'relu', padding='same'))\n",
        "classifier.add(MaxPooling2D(pool_size =(2,2)))\n"
      ]
    },
    {
      "cell_type": "code",
      "execution_count": null,
      "metadata": {
        "id": "JyDYLHedJXub"
      },
      "outputs": [],
      "source": [
        "#Step 3 - Flattening\n",
        "classifier.add(Flatten())"
      ]
    },
    {
      "cell_type": "code",
      "execution_count": null,
      "metadata": {
        "id": "B-7yOOgrJX1K"
      },
      "outputs": [],
      "source": [
        "#Step 4 - Full Connection\n",
        "classifier.add(Dense(256, activation = 'relu'))\n",
        "classifier.add(Dropout(0.4))\n",
        "classifier.add(Dense(36, activation = 'softmax')) # 36 Units are the value of no of Classes"
      ]
    },
    {
      "cell_type": "code",
      "execution_count": null,
      "metadata": {
        "id": "69rRIVm9Jbr6"
      },
      "outputs": [],
      "source": [
        "#Compiling The CNN\n",
        "classifier.compile(\n",
        "              optimizer = 'adam',\n",
        "              loss = 'categorical_crossentropy',\n",
        "              metrics = ['accuracy'])"
      ]
    },
    {
      "cell_type": "code",
      "execution_count": null,
      "metadata": {
        "colab": {
          "base_uri": "https://localhost:8080/"
        },
        "id": "CRMql1lLgQrW",
        "outputId": "af34a79f-5975-4489-c71b-3bd7d2f26694"
      },
      "outputs": [],
      "source": [
        "# Classifier Summary\n",
        "classifier.summary()"
      ]
    },
    {
      "cell_type": "code",
      "execution_count": null,
      "metadata": {
        "id": "zcqMfgb_Jb3m"
      },
      "outputs": [],
      "source": [
        "#Part 2 Fittting the CNN to the image\n",
        "from keras.preprocessing.image import ImageDataGenerator\n",
        "train_datagen = ImageDataGenerator(\n",
        "        rescale=1./255,\n",
        "        shear_range=0.2,\n",
        "        zoom_range=0.2,\n",
        "        horizontal_flip=True)"
      ]
    },
    {
      "cell_type": "code",
      "execution_count": null,
      "metadata": {
        "colab": {
          "base_uri": "https://localhost:8080/"
        },
        "id": "8NSgS7-xJfzK",
        "outputId": "02afcf40-4ec1-4120-a1a8-f2952ec31e2c"
      },
      "outputs": [],
      "source": [
        "#Dataset Store in Variable\n",
        "test_datagen = ImageDataGenerator(rescale=1./255)\n",
        "\n",
        "training_set = train_datagen.flow_from_directory(\n",
        "        '/content/drive/MyDrive/Data/train',\n",
        "        target_size=(sz, sz),\n",
        "        batch_size=32,\n",
        "        color_mode='rgb',\n",
        "        class_mode='categorical')\n",
        "\n",
        "test_set = test_datagen.flow_from_directory(\n",
        "        '/content/drive/MyDrive/Data/test',\n",
        "        target_size=(sz, sz),\n",
        "        batch_size=32,\n",
        "        color_mode='rgb',\n",
        "        class_mode='categorical')"
      ]
    },
    {
      "cell_type": "code",
      "execution_count": null,
      "metadata": {
        "colab": {
          "base_uri": "https://localhost:8080/",
          "height": 491
        },
        "id": "YBBCWpdlJf2j",
        "outputId": "b1323cea-75f1-49e9-baa9-90b0134c5138"
      },
      "outputs": [],
      "source": [
        "#Model Initialize\n",
        "epochs=25\n",
        "model = classifier.fit_generator(\n",
        "        training_set,\n",
        "        steps_per_epoch=225,\t#No of Image in Traing Set 7200/batch size(32)=225\n",
        "        epochs=epochs, #Previous value is 25\n",
        "        validation_data = test_set,\n",
        "        validation_steps =56 \t#No of Image in Test Set 1800/batch size(32)=56\n",
        "      )"
      ]
    },
    {
      "cell_type": "code",
      "execution_count": null,
      "metadata": {
        "id": "hGGDpSCnJupU"
      },
      "outputs": [],
      "source": [
        "#Saving the model\n",
        "classifier.save('/content/drive/MyDrive/Models/Trained_model.h5')\n",
        "\n",
        "# model_json = classifier.to_json()\n",
        "# with open(\"/content/drive/MyDrive/Data/model-bw1.json\", \"w\") as json_file:\n",
        "#     json_file.write(model_json)\n",
        "print('Model Saved')\n",
        "\n",
        "print(model.history.keys())"
      ]
    },
    {
      "cell_type": "code",
      "execution_count": null,
      "metadata": {
        "id": "6s4PjEz9Ju5D"
      },
      "outputs": [],
      "source": [
        "#Accuracy\n",
        "model.history['accuracy']"
      ]
    }
  ],
  "metadata": {
    "accelerator": "GPU",
    "colab": {
      "provenance": []
    },
    "gpuClass": "standard",
    "kernelspec": {
      "display_name": "Python 3.10.8 64-bit",
      "language": "python",
      "name": "python3"
    },
    "language_info": {
      "name": "python",
      "version": "3.10.8"
    },
    "vscode": {
      "interpreter": {
        "hash": "e7370f93d1d0cde622a1f8e1c04877d8463912d04d973331ad4851f04de6915a"
      }
    }
  },
  "nbformat": 4,
  "nbformat_minor": 0
}