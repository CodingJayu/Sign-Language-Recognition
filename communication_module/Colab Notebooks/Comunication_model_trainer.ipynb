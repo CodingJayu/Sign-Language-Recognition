{
  "cells": [
   {
    "cell_type": "markdown",
    "metadata": {},
    "source": [
     "# 1. Import and Install Dependencies"
    ]
   },
   {
    "cell_type": "code",
    "execution_count": null,
    "metadata": {},
    "outputs": [],
    "source": [
     "import cv2\n",
     "import numpy as np\n",
     "import os\n",
     "from matplotlib import pyplot as plt\n",
     "import time\n",
     "import mediapipe as mp"
    ]
   },
   {
    "cell_type": "markdown",
    "metadata": {},
    "source": [
     "# 2. Keypoints using MP Holistic"
    ]
   },
   {
    "cell_type": "code",
    "execution_count": null,
    "metadata": {},
    "outputs": [],
    "source": [
     "mp_holistic = mp.solutions.holistic # Holistic model\n",
     "mp_drawing = mp.solutions.drawing_utils # Drawing utilities"
    ]
   },
   {
    "cell_type": "code",
    "execution_count": null,
    "metadata": {},
    "outputs": [],
    "source": [
     "def mediapipe_detection(image, model):\n",
     "    image = cv2.cvtColor(image, cv2.COLOR_BGR2RGB) # COLOR CONVERSION BGR 2 RGB\n",
     "    image.flags.writeable = False                  # Image is no longer writeable\n",
     "    results = model.process(image)                 # Make prediction\n",
     "    image.flags.writeable = True                   # Image is now writeable \n",
     "    image = cv2.cvtColor(image, cv2.COLOR_RGB2BGR) # COLOR COVERSION RGB 2 BGR\n",
     "    return image, results"
    ]
   },
   {
    "cell_type": "code",
    "execution_count": null,
    "metadata": {},
    "outputs": [],
    "source": [
     "def draw_landmarks(image, results):\n",
     "    mp_drawing.draw_landmarks(image, results.face_landmarks, mp_holistic.FACEMESH_TESSELATION) # Draw face connections\n",
     "    mp_drawing.draw_landmarks(image, results.pose_landmarks, mp_holistic.POSE_CONNECTIONS) # Draw pose connections\n",
     "    mp_drawing.draw_landmarks(image, results.left_hand_landmarks, mp_holistic.HAND_CONNECTIONS) # Draw left hand connections\n",
     "    mp_drawing.draw_landmarks(image, results.right_hand_landmarks, mp_holistic.HAND_CONNECTIONS) # Draw right hand connections"
    ]
   },
   {
    "cell_type": "code",
    "execution_count": null,
    "metadata": {},
    "outputs": [],
    "source": [
     "def draw_styled_landmarks(image, results):\n",
     "    # Draw face connections\n",
     "    mp_drawing.draw_landmarks(image, results.face_landmarks, mp_holistic.FACEMESH_TESSELATION, \n",
     "                             mp_drawing.DrawingSpec(color=(80,110,10), thickness=1, circle_radius=1), \n",
     "                             mp_drawing.DrawingSpec(color=(80,256,121), thickness=1, circle_radius=1)\n",
     "                             ) \n",
     "    # Draw pose connections\n",
     "    mp_drawing.draw_landmarks(image, results.pose_landmarks, mp_holistic.POSE_CONNECTIONS,\n",
     "                             mp_drawing.DrawingSpec(color=(80,22,10), thickness=2, circle_radius=4), \n",
     "                             mp_drawing.DrawingSpec(color=(80,44,121), thickness=2, circle_radius=2)\n",
     "                             ) \n",
     "    # Draw left hand connections\n",
     "    mp_drawing.draw_landmarks(image, results.left_hand_landmarks, mp_holistic.HAND_CONNECTIONS, \n",
     "                             mp_drawing.DrawingSpec(color=(121,22,76), thickness=2, circle_radius=4), \n",
     "                             mp_drawing.DrawingSpec(color=(121,44,250), thickness=2, circle_radius=2)\n",
     "                             ) \n",
     "    # Draw right hand connections  \n",
     "    mp_drawing.draw_landmarks(image, results.right_hand_landmarks, mp_holistic.HAND_CONNECTIONS, \n",
     "                             mp_drawing.DrawingSpec(color=(245,117,66), thickness=2, circle_radius=4), \n",
     "                             mp_drawing.DrawingSpec(color=(245,66,230), thickness=2, circle_radius=2)\n",
     "                             ) "
    ]
   },
   {
    "cell_type": "code",
    "execution_count": null,
    "metadata": {},
    "outputs": [],
    "source": [
     "cap = cv2.VideoCapture(1)\n",
     "# Set mediapipe model \n",
     "with mp_holistic.Holistic(min_detection_confidence=0.5, min_tracking_confidence=0.5) as holistic:\n",
     "    while cap.isOpened():\n",
     "\n",
     "        # Read feed\n",
     "        ret, frame = cap.read()\n",
     "\n",
     "        # Make detections\n",
     "        image, results = mediapipe_detection(frame, holistic)\n",
     "        print(results)\n",
     "        \n",
     "        # Draw landmarks\n",
     "        draw_styled_landmarks(image, results)\n",
     "\n",
     "        # Show to screen\n",
     "        cv2.imshow('OpenCV Feed', image)\n",
     "\n",
     "        # Break gracefully\n",
     "        if cv2.waitKey(10) & 0xFF == ord('q'):\n",
     "            break\n",
     "    cap.release()\n",
     "    cv2.destroyAllWindows()"
    ]
   },
   {
    "cell_type": "code",
    "execution_count": null,
    "metadata": {},
    "outputs": [],
    "source": [
     "draw_landmarks(frame, results)"
    ]
   },
   {
    "cell_type": "code",
    "execution_count": null,
    "metadata": {},
    "outputs": [],
    "source": [
     "plt.imshow(cv2.cvtColor(frame, cv2.COLOR_BGR2RGB))"
    ]
   },
   {
    "cell_type": "markdown",
    "metadata": {},
    "source": [
     "# 3. Extract Keypoint Values"
    ]
   },
   {
    "cell_type": "code",
    "execution_count": null,
    "metadata": {},
    "outputs": [],
    "source": [
     "# len(results.left_hand_landmarks.landmark)"
    ]
   },
   {
    "cell_type": "code",
    "execution_count": null,
    "metadata": {},
    "outputs": [],
    "source": [
     "pose = []\n",
     "for res in results.pose_landmarks.landmark:\n",
     "    test = np.array([res.x, res.y, res.z, res.visibility])\n",
     "    pose.append(test)"
    ]
   },
   {
    "cell_type": "code",
    "execution_count": null,
    "metadata": {},
    "outputs": [],
    "source": [
     "pose = np.array([[res.x, res.y, res.z, res.visibility] for res in results.pose_landmarks.landmark]).flatten() if results.pose_landmarks else np.zeros(132)\n",
     "face = np.array([[res.x, res.y, res.z] for res in results.face_landmarks.landmark]).flatten() if results.face_landmarks else np.zeros(1404)\n",
     "lh = np.array([[res.x, res.y, res.z] for res in results.left_hand_landmarks.landmark]).flatten() if results.left_hand_landmarks else np.zeros(21*3)\n",
     "rh = np.array([[res.x, res.y, res.z] for res in results.right_hand_landmarks.landmark]).flatten() if results.right_hand_landmarks else np.zeros(21*3)"
    ]
   },
   {
    "cell_type": "code",
    "execution_count": null,
    "metadata": {},
    "outputs": [],
    "source": [
     "face = np.array([[res.x, res.y, res.z] for res in results.face_landmarks.landmark]).flatten() if results.face_landmarks else np.zeros(1404)\n"
    ]
   },
   {
    "cell_type": "code",
    "execution_count": null,
    "metadata": {},
    "outputs": [],
    "source": [
     "def extract_keypoints(results):\n",
     "    pose = np.array([[res.x, res.y, res.z, res.visibility] for res in results.pose_landmarks.landmark]).flatten() if results.pose_landmarks else np.zeros(33*4)\n",
     "    face = np.array([[res.x, res.y, res.z] for res in results.face_landmarks.landmark]).flatten() if results.face_landmarks else np.zeros(468*3)\n",
     "    lh = np.array([[res.x, res.y, res.z] for res in results.left_hand_landmarks.landmark]).flatten() if results.left_hand_landmarks else np.zeros(21*3)\n",
     "    rh = np.array([[res.x, res.y, res.z] for res in results.right_hand_landmarks.landmark]).flatten() if results.right_hand_landmarks else np.zeros(21*3)\n",
     "    return np.concatenate([pose, face, lh, rh])"
    ]
   },
   {
    "cell_type": "code",
    "execution_count": null,
    "metadata": {},
    "outputs": [],
    "source": [
     "result_test = extract_keypoints(results)"
    ]
   },
   {
    "cell_type": "code",
    "execution_count": null,
    "metadata": {},
    "outputs": [],
    "source": [
     "result_test"
    ]
   },
   {
    "cell_type": "code",
    "execution_count": null,
    "metadata": {},
    "outputs": [],
    "source": [
     "np.save('0', result_test)"
    ]
   },
   {
    "cell_type": "code",
    "execution_count": null,
    "metadata": {},
    "outputs": [],
    "source": [
     "np.load('0.npy')"
    ]
   },
   {
    "cell_type": "markdown",
    "metadata": {},
    "source": [
     "# 4. Setup Folders for Collection"
    ]
   },
   {
    "cell_type": "code",
    "execution_count": null,
    "metadata": {},
    "outputs": [],
    "source": [
     "# Path for exported data, numpy arrays\n",
     "DATA_PATH = os.path.join('MP_Data') \n",
     "\n",
     "# Actions that we try to detect\n",
     "actions = np.array(['_','Hello', 'Thanks', 'I love you','sorry','Good Morning','Good Night','Good Afternoon','Happy','Man','Women','Have You Eaten','Bye','I','Your','You','Good','Very Good','Bad','All the Best','Yes','No'])\n",
     "\n",
     "# Thirty videos worth of data\n",
     "no_sequences = 100\n",
     "\n",
     "# Videos are going to be 30 frames in length\n",
     "sequence_length = 30\n",
     "\n",
     "# Folder start\n",
     "start_folder = 50"
    ]
   },
   {
    "cell_type": "code",
    "execution_count": null,
    "metadata": {},
    "outputs": [],
    "source": [
     "for action in actions: \n",
     "    # dirmax = np.max(np.array(os.listdir(os.path.join(DATA_PATH, action))).astype(int))\n",
     "    for sequence in range(50,no_sequences):\n",
     "        try: \n",
     "            os.makedirs(os.path.join(DATA_PATH, action, str(sequence)))\n",
     "        except:\n",
     "            pass"
    ]
   },
   {
    "cell_type": "markdown",
    "metadata": {},
    "source": [
     "# 5. Collect Keypoint Values for Training and Testing"
    ]
   },
   {
    "cell_type": "code",
    "execution_count": null,
    "metadata": {},
    "outputs": [],
    "source": [
     "cap = cv2.VideoCapture(0)\n",
     "# Set mediapipe model \n",
     "with mp_holistic.Holistic(min_detection_confidence=0.5, min_tracking_confidence=0.5) as holistic:\n",
     "    \n",
     "    # NEW LOOP\n",
     "    # Loop through actions\n",
     "    for action in actions:\n",
     "        # Loop through sequences aka videos\n",
     "        for sequence in range(start_folder,no_sequences):\n",
     "            # Loop through video length aka sequence length\n",
     "            for frame_num in range(sequence_length):\n",
     "\n",
     "                # Read feed\n",
     "                ret, frame = cap.read()\n",
     "\n",
     "                # Make detections\n",
     "                image, results = mediapipe_detection(frame, holistic)\n",
     "\n",
     "                # Draw landmarks\n",
     "                draw_styled_landmarks(image, results)\n",
     "                \n",
     "                # NEW Apply wait logic\n",
     "                if frame_num == 0: \n",
     "                    cv2.putText(image, 'STARTING COLLECTION', (120,200), \n",
     "                               cv2.FONT_HERSHEY_SIMPLEX, 1, (0,255, 0), 4, cv2.LINE_AA)\n",
     "                    cv2.putText(image, 'Collecting frames for {} Video Number {}'.format(action, sequence), (15,12), \n",
     "                               cv2.FONT_HERSHEY_SIMPLEX, 0.5, (0, 0, 255), 1, cv2.LINE_AA)\n",
     "                    # Show to screen\n",
     "                    cv2.imshow('OpenCV Feed', image)\n",
     "                    cv2.waitKey(500)\n",
     "                else: \n",
     "                    cv2.putText(image, 'Collecting frames for {} Video Number {}'.format(action, sequence), (15,12), \n",
     "                               cv2.FONT_HERSHEY_SIMPLEX, 0.5, (0, 0, 255), 1, cv2.LINE_AA)\n",
     "                    # Show to screen\n",
     "                    cv2.imshow('OpenCV Feed', image)\n",
     "                \n",
     "                # NEW Export keypoints\n",
     "                keypoints = extract_keypoints(results)\n",
     "                npy_path = os.path.join(DATA_PATH, action, str(sequence), str(frame_num))\n",
     "                np.save(npy_path, keypoints)\n",
     "\n",
     "                # Break gracefully\n",
     "                if cv2.waitKey(10) & 0xFF == ord('q'):\n",
     "                    break\n",
     "\n",
     "                    \n",
     "    cap.release()\n",
     "    cv2.destroyAllWindows()"
    ]
   },
   {
    "cell_type": "code",
    "execution_count": null,
    "metadata": {},
    "outputs": [],
    "source": [
     "cap.release()\n",
     "cv2.destroyAllWindows()"
    ]
   },
   {
    "cell_type": "markdown",
    "metadata": {},
    "source": [
     "# 6. Preprocess Data and Create Labels and Features"
    ]
   },
   {
    "cell_type": "code",
    "execution_count": null,
    "metadata": {},
    "outputs": [],
    "source": [
     "from sklearn.model_selection import train_test_split\n",
     "from tensorflow.keras.utils import to_categorical"
    ]
   },
   {
    "cell_type": "code",
    "execution_count": null,
    "metadata": {},
    "outputs": [],
    "source": [
     "label_map = {label:num for num, label in enumerate(actions)}"
    ]
   },
   {
    "cell_type": "code",
    "execution_count": null,
    "metadata": {},
    "outputs": [],
    "source": [
     "label_map"
    ]
   },
   {
    "cell_type": "code",
    "execution_count": null,
    "metadata": {},
    "outputs": [],
    "source": [
     "sequences, labels = [], []\n",
     "for action in actions:\n",
     "    for sequence in np.array(os.listdir(os.path.join(DATA_PATH, action))).astype(int):\n",
     "        window = []\n",
     "        for frame_num in range(sequence_length):\n",
     "            res = np.load(os.path.join(DATA_PATH, action, str(sequence), \"{}.npy\".format(frame_num)))\n",
     "            window.append(res)\n",
     "        sequences.append(window)\n",
     "        labels.append(label_map[action])"
    ]
   },
   {
    "cell_type": "code",
    "execution_count": null,
    "metadata": {},
    "outputs": [],
    "source": [
     "np.array(sequences).shape"
    ]
   },
   {
    "cell_type": "code",
    "execution_count": null,
    "metadata": {},
    "outputs": [],
    "source": [
     "np.array(labels).shape"
    ]
   },
   {
    "cell_type": "code",
    "execution_count": null,
    "metadata": {},
    "outputs": [],
    "source": [
     "X = np.array(sequences)"
    ]
   },
   {
    "cell_type": "code",
    "execution_count": null,
    "metadata": {},
    "outputs": [],
    "source": [
     "X.shape"
    ]
   },
   {
    "cell_type": "code",
    "execution_count": null,
    "metadata": {},
    "outputs": [],
    "source": [
     "y = to_categorical(labels).astype(int)"
    ]
   },
   {
    "cell_type": "code",
    "execution_count": null,
    "metadata": {},
    "outputs": [],
    "source": [
     "X_train, X_test, y_train, y_test = train_test_split(X, y, test_size=0.05)"
    ]
   },
   {
    "cell_type": "code",
    "execution_count": null,
    "metadata": {},
    "outputs": [],
    "source": [
     "y_test.shape"
    ]
   },
   {
    "cell_type": "markdown",
    "metadata": {},
    "source": [
     "# 7. Build and Train LSTM Neural Network"
    ]
   },
   {
    "cell_type": "code",
    "execution_count": null,
    "metadata": {},
    "outputs": [],
    "source": [
     "from tensorflow.keras.models import Sequential\n",
     "from tensorflow.keras.layers import LSTM, Dense\n",
     "from tensorflow.keras.callbacks import TensorBoard"
    ]
   },
   {
    "cell_type": "code",
    "execution_count": null,
    "metadata": {},
    "outputs": [],
    "source": [
     "log_dir = os.path.join('Logs')\n",
     "tb_callback = TensorBoard(log_dir=log_dir)"
    ]
   },
   {
    "cell_type": "code",
    "execution_count": null,
    "metadata": {},
    "outputs": [],
    "source": [
     "model = Sequential()\n",
     "model.add(LSTM(64, return_sequences=True, activation='relu', input_shape=(30,1662)))\n",
     "model.add(LSTM(128, return_sequences=True, activation='relu'))\n",
     "model.add(LSTM(64, return_sequences=False, activation='relu'))\n",
     "model.add(Dense(64, activation='relu'))\n",
     "model.add(Dense(22, activation='relu'))\n",
     "model.add(Dense(actions.shape[0], activation='softmax'))"
    ]
   },
   {
    "cell_type": "code",
    "execution_count": null,
    "metadata": {},
    "outputs": [],
    "source": [
     "model.compile(optimizer='Adam', loss='categorical_crossentropy', metrics=['categorical_accuracy'])"
    ]
   },
   {
    "cell_type": "code",
    "execution_count": null,
    "metadata": {
     "scrolled": true
    },
    "outputs": [],
    "source": [
     "model.fit(X_train, y_train, epochs=1000, callbacks=[tb_callback])"
    ]
   },
   {
    "cell_type": "code",
    "execution_count": null,
    "metadata": {},
    "outputs": [],
    "source": [
     "model.summary()"
    ]
   },
   {
    "cell_type": "markdown",
    "metadata": {},
    "source": [
     "# 8. Make Predictions"
    ]
   },
   {
    "cell_type": "code",
    "execution_count": null,
    "metadata": {},
    "outputs": [],
    "source": [
     "res = model.predict(X_test)"
    ]
   },
   {
    "cell_type": "code",
    "execution_count": null,
    "metadata": {},
    "outputs": [],
    "source": [
     "actions[np.argmax(res[4])]"
    ]
   },
   {
    "cell_type": "code",
    "execution_count": null,
    "metadata": {},
    "outputs": [],
    "source": [
     "actions[np.argmax(y_test[4])]"
    ]
   },
   {
    "cell_type": "markdown",
    "metadata": {},
    "source": [
     "# 9. Save Weights"
    ]
   },
   {
    "cell_type": "code",
    "execution_count": null,
    "metadata": {},
    "outputs": [],
    "source": [
     "model.save('Communication1.h5')"
    ]
   },
   {
    "cell_type": "code",
    "execution_count": null,
    "metadata": {},
    "outputs": [],
    "source": [
     "#del model"
    ]
   },
   {
    "cell_type": "code",
    "execution_count": null,
    "metadata": {},
    "outputs": [],
    "source": [
     "model.load_weights('Communication1.h5')"
    ]
   },
   {
    "cell_type": "markdown",
    "metadata": {},
    "source": [
     "# 10. Evaluation using Confusion Matrix and Accuracy"
    ]
   },
   {
    "cell_type": "code",
    "execution_count": null,
    "metadata": {},
    "outputs": [],
    "source": [
     "from sklearn.metrics import multilabel_confusion_matrix, accuracy_score"
    ]
   },
   {
    "cell_type": "code",
    "execution_count": null,
    "metadata": {},
    "outputs": [],
    "source": [
     "yhat = model.predict(X_test)"
    ]
   },
   {
    "cell_type": "code",
    "execution_count": null,
    "metadata": {},
    "outputs": [],
    "source": [
     "ytrue = np.argmax(y_test, axis=1).tolist()\n",
     "yhat = np.argmax(yhat, axis=1).tolist()"
    ]
   },
   {
    "cell_type": "code",
    "execution_count": null,
    "metadata": {},
    "outputs": [],
    "source": [
     "multilabel_confusion_matrix(ytrue, yhat)"
    ]
   },
   {
    "cell_type": "code",
    "execution_count": null,
    "metadata": {},
    "outputs": [],
    "source": [
     "accuracy_score(ytrue, yhat)"
    ]
   },
   {
    "cell_type": "markdown",
    "metadata": {},
    "source": [
     "# 11. Test in Real Time"
    ]
   },
   {
    "cell_type": "code",
    "execution_count": null,
    "metadata": {},
    "outputs": [],
    "source": [
     "from scipy import stats"
    ]
   },
   {
    "cell_type": "code",
    "execution_count": null,
    "metadata": {},
    "outputs": [],
    "source": [
     "colors = [(245,117,16), (117,245,16), (16,117,245),(245,117,16), (117,245,16), (16,117,245),(245,117,16), (117,245,16), (16,117,245),(245,117,16), (117,245,16), (16,117,245),(245,117,16), (117,245,16), (16,117,245),(245,117,16), (117,245,16), (16,117,245),(245,117,16), (117,245,16), (16,117,245),(245,117,16)]\n",
     "def prob_viz(res, actions, input_frame, colors):\n",
     "    output_frame = input_frame.copy()\n",
     "    for num, prob in enumerate(res):\n",
     "        cv2.rectangle(output_frame, (0,60+num*40), (int(prob*100), 90+num*40), colors[num], -1)\n",
     "        cv2.putText(output_frame, actions[num], (0, 85+num*40), cv2.FONT_HERSHEY_SIMPLEX, 1, (255,255,255), 2, cv2.LINE_AA)\n",
     "        \n",
     "    return output_frame"
    ]
   },
   {
    "cell_type": "code",
    "execution_count": null,
    "metadata": {},
    "outputs": [],
    "source": [
     "# plt.figure(figsize=(18,18))\n",
     "# plt.imshow(prob_viz(res, actions, image, colors))"
    ]
   },
   {
    "cell_type": "code",
    "execution_count": null,
    "metadata": {},
    "outputs": [],
    "source": [
     "# 1. New detection variables\n",
     "from tensorflow import keras\n",
     "\n",
     "sequence = []\n",
     "sentence = []\n",
     "predictions = []\n",
     "threshold = 0.5\n",
     "\n",
     "model = keras.models.load_model('Communication1.h5',compile=False)\n",
     "\n",
     "cap = cv2.VideoCapture(1)\n",
     "# Set mediapipe model \n",
     "with mp_holistic.Holistic(min_detection_confidence=0.5, min_tracking_confidence=0.5) as holistic:\n",
     "    while cap.isOpened():\n",
     "\n",
     "        # Read feed\n",
     "        ret, frame = cap.read()\n",
     "\n",
     "        # Make detections\n",
     "        image, results = mediapipe_detection(frame, holistic)\n",
     "        print(results)\n",
     "        \n",
     "        # Draw landmarks\n",
     "        draw_styled_landmarks(image, results)\n",
     "        \n",
     "        # 2. Prediction logic\n",
     "        keypoints = extract_keypoints(results)\n",
     "        sequence.append(keypoints)\n",
     "        sequence = sequence[-30:]\n",
     "        \n",
     "        if len(sequence) == 30:\n",
     "            res = model.predict(np.expand_dims(sequence, axis=0))[0]\n",
     "            print(actions[np.argmax(res)])\n",
     "            predictions.append(np.argmax(res))\n",
     "            \n",
     "            \n",
     "        #3. Viz logic\n",
     "            if np.unique(predictions[-10:])[0]==np.argmax(res): \n",
     "                if res[np.argmax(res)] > threshold: \n",
     "                    \n",
     "                    if len(sentence) > 0: \n",
     "                        if actions[np.argmax(res)] != sentence[-1]:\n",
     "                            sentence.append(actions[np.argmax(res)])\n",
     "                    else:\n",
     "                        sentence.append(actions[np.argmax(res)])\n",
     "\n",
     "            if len(sentence) > 5: \n",
     "                sentence = sentence[-5:]\n",
     "\n",
     "            # Viz probabilities\n",
     "            image = prob_viz(res, actions, image, colors)\n",
     "            \n",
     "        cv2.rectangle(image, (0,0), (640, 40), (245, 117, 16), -1)\n",
     "        cv2.putText(image, ' '.join(sentence), (3,30), \n",
     "                       cv2.FONT_HERSHEY_SIMPLEX, 1, (255, 255, 255), 2, cv2.LINE_AA)\n",
     "        \n",
     "        # Show to screen\n",
     "        cv2.imshow('OpenCV Feed', image)\n",
     "\n",
     "        # Break gracefully\n",
     "        if cv2.waitKey(10) & 0xFF == ord('q'):\n",
     "            break\n",
     "    cap.release()\n",
     "    cv2.destroyAllWindows()"
    ]
   }
  ],
  "metadata": {
   "kernelspec": {
    "display_name": "Python 3 (ipykernel)",
    "language": "python",
    "name": "python3"
   },
   "language_info": {
    "codemirror_mode": {
     "name": "ipython",
     "version": 3
    },
    "file_extension": ".py",
    "mimetype": "text/x-python",
    "name": "python",
    "nbconvert_exporter": "python",
    "pygments_lexer": "ipython3",
    "version": "3.10.11"
   }
  },
  "nbformat": 4,
  "nbformat_minor": 2
 }